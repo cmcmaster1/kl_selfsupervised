{
 "metadata": {
  "language_info": {
   "codemirror_mode": {
    "name": "ipython",
    "version": 3
   },
   "file_extension": ".py",
   "mimetype": "text/x-python",
   "name": "python",
   "nbconvert_exporter": "python",
   "pygments_lexer": "ipython3",
   "version": "3.8.3-final"
  },
  "orig_nbformat": 2,
  "kernelspec": {
   "name": "python_defaultSpec_1597320297382",
   "display_name": "Python 3.8.3 64-bit ('pytorch': conda)"
  }
 },
 "nbformat": 4,
 "nbformat_minor": 2,
 "cells": [
  {
   "cell_type": "code",
   "execution_count": 1,
   "metadata": {},
   "outputs": [],
   "source": [
    "import torch\n",
    "import torch.nn as nn\n",
    "import torch.optim as optim\n",
    "from torch.optim import lr_scheduler\n",
    "import torch.nn.functional as F\n",
    "import torchvision\n",
    "from torchvision import *\n",
    "from torch.utils.data import Dataset, DataLoader\n",
    "import yaml\n",
    "from models.resnet_base_network import ResNet18\n",
    "import pandas as pd\n",
    "import numpy as np\n",
    "from PIL import Image\n",
    "from pathlib import Path\n",
    "from tqdm import tqdm"
   ]
  },
  {
   "cell_type": "code",
   "execution_count": 2,
   "metadata": {},
   "outputs": [],
   "source": [
    "bs = 48\n",
    "device = 'cuda'"
   ]
  },
  {
   "cell_type": "code",
   "execution_count": 3,
   "metadata": {},
   "outputs": [],
   "source": [
    "class ImagesDataset(Dataset):\n",
    "    def __init__(self, train, transform=None):\n",
    "        \"\"\"\n",
    "        Args:\n",
    "            train (boolean): train or test\n",
    "        \"\"\"\n",
    "        self.paths = []\n",
    "        self.labels = []\n",
    "        for path in Path(f'kneeKL224/{train}').glob('**/*'):\n",
    "            folder, file = os.path.split(path)\n",
    "            _, ext = os.path.splitext(path)\n",
    "            if ext.lower() == '.png':\n",
    "                self.paths.append(path)\n",
    "                self.labels.append(folder[-1])\n",
    "        self.transform = transform\n",
    "\n",
    "    def __len__(self):\n",
    "        return len(self.paths)\n",
    "\n",
    "    def __getitem__(self, index):\n",
    "        path = self.paths[index]\n",
    "        label = int(self.labels[index])\n",
    "        img = Image.open(path)\n",
    "\n",
    "        if self.transform:\n",
    "            img = self.transform(img)\n",
    "\n",
    "        return img, label"
   ]
  },
  {
   "cell_type": "code",
   "execution_count": 4,
   "metadata": {},
   "outputs": [],
   "source": [
    "tfms = transforms.Compose([\n",
    "    transforms.RandomVerticalFlip(0.5),\n",
    "    transforms.RandomHorizontalFlip(0.5),\n",
    "    transforms.RandomAffine(degrees = 11, scale = (0.9, 1.1)),\n",
    "    transforms.ToTensor()\n",
    "])"
   ]
  },
  {
   "cell_type": "code",
   "execution_count": 5,
   "metadata": {},
   "outputs": [],
   "source": [
    "image_datasets = {\n",
    "    'train': ImagesDataset(train = 'train', transform=tfms),\n",
    "    'validation': ImagesDataset(train = 'val', transform=tfms)\n",
    "}\n",
    "\n",
    "dataloaders = {\n",
    "    'train': DataLoader(image_datasets['train'], batch_size=bs, shuffle=True, num_workers=0),\n",
    "    'validation': DataLoader(image_datasets['validation'], batch_size=bs, shuffle=False, num_workers=0)\n",
    "}"
   ]
  },
  {
   "cell_type": "code",
   "execution_count": 6,
   "metadata": {},
   "outputs": [],
   "source": [
    "config = yaml.load(open(\"config/config.yaml\", \"r\"), Loader=yaml.FullLoader)\n",
    "encoder = ResNet18(**config['network'])\n",
    "output_feature_dim = encoder.projetion.net[0].in_features"
   ]
  },
  {
   "cell_type": "code",
   "execution_count": 7,
   "metadata": {
    "tags": []
   },
   "outputs": [
    {
     "output_type": "stream",
     "name": "stdout",
     "text": "Parameters successfully loaded.\n"
    }
   ],
   "source": [
    "#load pre-trained parameters\n",
    "load_params = torch.load(os.path.join('runs/Aug13_23-03-15_DESKTOP-SSCRTA9/checkpoints/model.pth'),\n",
    "                         map_location=torch.device(torch.device(device)))\n",
    "\n",
    "if 'online_network_state_dict' in load_params:\n",
    "    encoder.load_state_dict(load_params['online_network_state_dict'])\n",
    "    print(\"Parameters successfully loaded.\")\n",
    "\n",
    "# remove the projection head\n",
    "encoder = encoder.to(device)"
   ]
  },
  {
   "cell_type": "code",
   "execution_count": 8,
   "metadata": {},
   "outputs": [],
   "source": [
    "encoder.projetion = nn.Sequential(\n",
    "    nn.Linear(output_feature_dim, output_feature_dim // 2),\n",
    "    nn.ReLU(inplace=True),\n",
    "    nn.Dropout(p=0.4),\n",
    "    nn.Linear(output_feature_dim // 2, 5),\n",
    "    nn.LogSoftmax(dim=1)).to(device)"
   ]
  },
  {
   "cell_type": "code",
   "execution_count": 9,
   "metadata": {},
   "outputs": [],
   "source": [
    "def train_model(model, criterion, optimizer, scheduler, num_epochs=3):\n",
    "    for epoch in range(num_epochs):\n",
    "        print('Epoch {}/{}'.format(epoch+1, num_epochs))\n",
    "        print('-' * 10)\n",
    "\n",
    "        for phase in ['train', 'validation']:\n",
    "            if phase == 'train':\n",
    "                scheduler.step()\n",
    "                model.train()\n",
    "            else:\n",
    "                model.eval()\n",
    "\n",
    "            running_loss = 0.0\n",
    "            valid_acc = 0\n",
    "\n",
    "            for inputs, labels in dataloaders[phase]:\n",
    "                inputs = inputs.to(device)\n",
    "                labels = labels.to(device)\n",
    "\n",
    "                outputs = model(inputs)\n",
    "                loss = criterion(outputs, labels)\n",
    "\n",
    "                if phase == 'train':\n",
    "                    optimizer.zero_grad()\n",
    "                    loss.backward()\n",
    "                    optimizer.step()\n",
    "\n",
    "                _, preds = torch.max(outputs, 1)\n",
    "                running_loss += loss.item() * inputs.size(0)\n",
    "                correct_tensor = preds.eq(labels.data.view_as(preds))\n",
    "                accuracy = torch.mean(correct_tensor.type(torch.FloatTensor))\n",
    "                valid_acc += accuracy.item() * inputs.size(0)\n",
    "\n",
    "            epoch_loss = running_loss / len(image_datasets[phase])\n",
    "            epoch_acc = valid_acc / len(image_datasets[phase])\n",
    "\n",
    "            print('{} loss: {:.4f}, acc: {:.4f}'.format(phase,\n",
    "                                                        epoch_loss,\n",
    "                                                        epoch_acc))\n",
    "    return model"
   ]
  },
  {
   "cell_type": "code",
   "execution_count": 10,
   "metadata": {
    "tags": []
   },
   "outputs": [
    {
     "output_type": "stream",
     "name": "stdout",
     "text": "Epoch 1/3\n----------\ntrain loss: 1.3277, acc: 0.4258\nvalidation loss: 1.2075, acc: 0.5085\nEpoch 2/3\n----------\ntrain loss: 1.1774, acc: 0.4884\nvalidation loss: 1.1438, acc: 0.5085\nEpoch 3/3\n----------\ntrain loss: 1.1411, acc: 0.5088\nvalidation loss: 1.1482, acc: 0.4939\n"
    }
   ],
   "source": [
    "plist = [\n",
    "        {'params': encoder.encoder[7].parameters(), 'lr': 1e-5},\n",
    "        {'params': encoder.projetion.parameters(), 'lr': 5e-3}\n",
    "        ]\n",
    "optimizer_ft = optim.Adam(plist, lr=0.001)\n",
    "criterion = nn.NLLLoss()\n",
    "lr_sch = lr_scheduler.StepLR(optimizer_ft, step_size=10, gamma=0.1)\n",
    "\n",
    "\n",
    "model_ft = train_model(encoder,\n",
    "                       criterion,\n",
    "                       optimizer_ft,\n",
    "                       lr_sch,\n",
    "                       num_epochs=3)\n",
    "\n",
    "torch.save(model_ft.state_dict(), \"model.bin\")"
   ]
  },
  {
   "cell_type": "code",
   "execution_count": 11,
   "metadata": {},
   "outputs": [],
   "source": [
    "encoder.load_state_dict(torch.load(\"model.bin\"))\n",
    "model_ft = encoder.to(device)\n",
    "\n",
    "TEST_BATCH_SIZE = 10\n",
    "NUM_CLASSES = 5\n",
    "test_tfms = transforms.Compose([\n",
    "    transforms.Resize(size = (80, 80)),\n",
    "    transforms.ToTensor()\n",
    "])\n",
    "\n",
    "test_dataset = ImagesDataset(train = 'test', transform=test_tfms)\n",
    "test_dataset_loader = DataLoader(test_dataset, batch_size=TEST_BATCH_SIZE, shuffle=False, num_workers=0)"
   ]
  },
  {
   "cell_type": "code",
   "execution_count": 12,
   "metadata": {
    "tags": []
   },
   "outputs": [
    {
     "output_type": "stream",
     "name": "stderr",
     "text": "100%|██████████| 166/166 [00:04<00:00, 38.36it/s]\n"
    }
   ],
   "source": [
    "for param in model_ft.parameters():\n",
    "    param.requires_grad = False\n",
    "\n",
    "model_ft.eval()\n",
    "test_preds = np.zeros((len(test_dataset), NUM_CLASSES))\n",
    "tk0 = tqdm(test_dataset_loader)\n",
    "for i, x_batch in enumerate(tk0):\n",
    "    x_batch = x_batch[0]\n",
    "    pred = model_ft(x_batch.to(device))\n",
    "    test_preds[i * TEST_BATCH_SIZE:(i + 1) * TEST_BATCH_SIZE, :] = pred.detach().cpu().squeeze().numpy()\n",
    "\n",
    "test_preds = torch.from_numpy(test_preds).float().to(device).sigmoid()\n",
    "test_preds = test_preds.detach().cpu().squeeze().numpy()"
   ]
  },
  {
   "cell_type": "code",
   "execution_count": 13,
   "metadata": {},
   "outputs": [],
   "source": [
    "data = {'y_Predicted':    np.argmax(test_preds, 1),\n",
    "        'y_Actual': np.array(test_dataset.labels)\n",
    "        }\n",
    "\n",
    "df = pd.DataFrame(data, columns=['y_Actual','y_Predicted'])"
   ]
  },
  {
   "cell_type": "code",
   "execution_count": 14,
   "metadata": {
    "tags": []
   },
   "outputs": [
    {
     "output_type": "stream",
     "name": "stdout",
     "text": "Predicted    0  1    2    3   4\nActual                         \n0          118  1  330  184   6\n1           39  2  164   89   2\n2           55  0  217  165  10\n3           21  0  106   91   5\n4            1  0   22   27   1\n"
    }
   ],
   "source": [
    "confusion_matrix = pd.crosstab(df['y_Actual'], df['y_Predicted'], rownames=['Actual'], colnames=['Predicted'])\n",
    "print (confusion_matrix)"
   ]
  },
  {
   "cell_type": "code",
   "execution_count": null,
   "metadata": {},
   "outputs": [],
   "source": []
  }
 ]
}