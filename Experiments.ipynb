{
 "cells": [
  {
   "cell_type": "code",
   "execution_count": 1,
   "metadata": {},
   "outputs": [],
   "source": [
    "import os\n",
    "import torch\n",
    "import yaml\n",
    "from torchvision import datasets\n",
    "from torch.utils.data import DataLoader, Dataset\n",
    "from data.multi_view_data_injector import MultiViewDataInjector\n",
    "from data.transforms import get_simclr_data_transforms\n",
    "from models.mlp_head import MLPHead\n",
    "from models.resnet_base_network import ResNet18\n",
    "from trainer import BYOLTrainer\n",
    "from PIL import Image\n",
    "from pathlib import Path"
   ]
  },
  {
   "cell_type": "code",
   "execution_count": 2,
   "metadata": {
    "tags": []
   },
   "outputs": [],
   "source": [
    "torch.manual_seed(0)\n",
    "config = yaml.load(open(\"./config/config.yaml\", \"r\"), Loader=yaml.FullLoader)"
   ]
  },
  {
   "cell_type": "code",
   "execution_count": 3,
   "metadata": {},
   "outputs": [],
   "source": [
    "class ImagesDataset(Dataset):\n",
    "    def __init__(self, transform=None):\n",
    "        \"\"\"\n",
    "        Args:\n",
    "            train (boolean): train or test\n",
    "        \"\"\"\n",
    "        self.paths = []\n",
    "        self.labels = []\n",
    "        for path in Path('kneeKL224/').glob('**/*'):\n",
    "            folder, file = os.path.split(path)\n",
    "            _, ext = os.path.splitext(path)\n",
    "            if ext.lower() == '.png':\n",
    "                self.paths.append(path)\n",
    "                self.labels.append(folder[-1])\n",
    "        self.transform = transform\n",
    "\n",
    "    def __len__(self):\n",
    "        return len(self.paths)\n",
    "\n",
    "    def __getitem__(self, index):\n",
    "        path = self.paths[index]\n",
    "        label = self.labels[index]\n",
    "        img = Image.open(path)\n",
    "\n",
    "        if self.transform:\n",
    "            img = self.transform(img)\n",
    "\n",
    "        return img"
   ]
  },
  {
   "cell_type": "code",
   "execution_count": 4,
   "metadata": {},
   "outputs": [],
   "source": [
    "data_transform = get_simclr_data_transforms(**config['data_transforms'])\n",
    "train_dataset = ImagesDataset(transform=MultiViewDataInjector([data_transform, data_transform]))"
   ]
  },
  {
   "cell_type": "code",
   "execution_count": 5,
   "metadata": {
    "tags": []
   },
   "outputs": [
    {
     "output_type": "stream",
     "name": "stdout",
     "text": "Training with: cuda\nRetraining from checkpoint folder Aug13_14-14-58_DESKTOP-SSCRTA9\nEnd of epoch 0\nEnd of epoch 1\nEnd of epoch 2\nEnd of epoch 3\nEnd of epoch 4\nEnd of epoch 5\nEnd of epoch 6\nEnd of epoch 7\nEnd of epoch 8\nEnd of epoch 9\nEnd of epoch 10\nEnd of epoch 11\nEnd of epoch 12\nEnd of epoch 13\nEnd of epoch 14\nEnd of epoch 15\nEnd of epoch 16\nEnd of epoch 17\nEnd of epoch 18\nEnd of epoch 19\nEnd of epoch 20\nEnd of epoch 21\nEnd of epoch 22\nEnd of epoch 23\nEnd of epoch 24\nEnd of epoch 25\nEnd of epoch 26\nEnd of epoch 27\nEnd of epoch 28\nEnd of epoch 29\nEnd of epoch 30\nEnd of epoch 31\nEnd of epoch 32\nEnd of epoch 33\nEnd of epoch 34\nEnd of epoch 35\nEnd of epoch 36\nEnd of epoch 37\nEnd of epoch 38\nEnd of epoch 39\nEnd of epoch 40\nEnd of epoch 41\nEnd of epoch 42\nEnd of epoch 43\nEnd of epoch 44\nEnd of epoch 45\nEnd of epoch 46\nEnd of epoch 47\nEnd of epoch 48\nEnd of epoch 49\nEnd of epoch 50\nEnd of epoch 51\nEnd of epoch 52\nEnd of epoch 53\nEnd of epoch 54\nEnd of epoch 55\nEnd of epoch 56\nEnd of epoch 57\nEnd of epoch 58\nEnd of epoch 59\nEnd of epoch 60\nEnd of epoch 61\nEnd of epoch 62\nEnd of epoch 63\nEnd of epoch 64\nEnd of epoch 65\nEnd of epoch 66\nEnd of epoch 67\nEnd of epoch 68\nEnd of epoch 69\nEnd of epoch 70\nEnd of epoch 71\nEnd of epoch 72\nEnd of epoch 73\nEnd of epoch 74\nEnd of epoch 75\nEnd of epoch 76\nEnd of epoch 77\nEnd of epoch 78\nEnd of epoch 79\nEnd of epoch 80\nEnd of epoch 81\nEnd of epoch 82\nEnd of epoch 83\nEnd of epoch 84\nEnd of epoch 85\nEnd of epoch 86\nEnd of epoch 87\nEnd of epoch 88\nEnd of epoch 89\nEnd of epoch 90\nEnd of epoch 91\nEnd of epoch 92\nEnd of epoch 93\nEnd of epoch 94\nEnd of epoch 95\nEnd of epoch 96\nEnd of epoch 97\nEnd of epoch 98\nEnd of epoch 99\nEnd of epoch 100\nEnd of epoch 101\nEnd of epoch 102\nEnd of epoch 103\nEnd of epoch 104\nEnd of epoch 105\nEnd of epoch 106\nEnd of epoch 107\nEnd of epoch 108\nEnd of epoch 109\nEnd of epoch 110\nEnd of epoch 111\nEnd of epoch 112\nEnd of epoch 113\nEnd of epoch 114\nEnd of epoch 115\nEnd of epoch 116\nEnd of epoch 117\nEnd of epoch 118\nEnd of epoch 119\nEnd of epoch 120\nEnd of epoch 121\nEnd of epoch 122\nEnd of epoch 123\nEnd of epoch 124\nEnd of epoch 125\nEnd of epoch 126\nEnd of epoch 127\nEnd of epoch 128\nEnd of epoch 129\nEnd of epoch 130\nEnd of epoch 131\nEnd of epoch 132\nEnd of epoch 133\nEnd of epoch 134\nEnd of epoch 135\nEnd of epoch 136\nEnd of epoch 137\nEnd of epoch 138\nEnd of epoch 139\nEnd of epoch 140\nEnd of epoch 141\nEnd of epoch 142\nEnd of epoch 143\nEnd of epoch 144\nEnd of epoch 145\nEnd of epoch 146\nEnd of epoch 147\nEnd of epoch 148\nEnd of epoch 149\nEnd of epoch 150\nEnd of epoch 151\nEnd of epoch 152\nEnd of epoch 153\nEnd of epoch 154\nEnd of epoch 155\nEnd of epoch 156\nEnd of epoch 157\nEnd of epoch 158\nEnd of epoch 159\nEnd of epoch 160\nEnd of epoch 161\nEnd of epoch 162\nEnd of epoch 163\nEnd of epoch 164\nEnd of epoch 165\nEnd of epoch 166\nEnd of epoch 167\nEnd of epoch 168\nEnd of epoch 169\nEnd of epoch 170\nEnd of epoch 171\nEnd of epoch 172\nEnd of epoch 173\nEnd of epoch 174\nEnd of epoch 175\nEnd of epoch 176\nEnd of epoch 177\nEnd of epoch 178\nEnd of epoch 179\nEnd of epoch 180\nEnd of epoch 181\nEnd of epoch 182\nEnd of epoch 183\nEnd of epoch 184\nEnd of epoch 185\nEnd of epoch 186\nEnd of epoch 187\nEnd of epoch 188\nEnd of epoch 189\nEnd of epoch 190\nEnd of epoch 191\nEnd of epoch 192\nEnd of epoch 193\nEnd of epoch 194\nEnd of epoch 195\nEnd of epoch 196\nEnd of epoch 197\nEnd of epoch 198\nEnd of epoch 199\n"
    }
   ],
   "source": [
    "device = 'cuda' if torch.cuda.is_available() else 'cpu'\n",
    "print(f\"Training with: {device}\")\n",
    "\n",
    "# online network\n",
    "online_network = ResNet18(**config['network']).to(device)\n",
    "pretrained_folder = config['network']['fine_tune_from']\n",
    "\n",
    "# load pre-trained model if defined\n",
    "if pretrained_folder:\n",
    "    try:\n",
    "        checkpoints_folder = os.path.join('./runs', pretrained_folder, 'checkpoints')\n",
    "\n",
    "        # load pre-trained parameters\n",
    "        load_params = torch.load(os.path.join(os.path.join(checkpoints_folder, 'model.pth')),\n",
    "                                  map_location=torch.device(torch.device(device)))\n",
    "\n",
    "        online_network.load_state_dict(load_params['online_network_state_dict'])\n",
    "\n",
    "        print(f\"Retraining from checkpoint folder {config['network']['fine_tune_from']}\")\n",
    "\n",
    "    except FileNotFoundError:\n",
    "        print(\"Pre-trained weights not found. Training from scratch.\")\n",
    "\n",
    "# predictor network\n",
    "predictor = MLPHead(in_channels=online_network.projetion.net[-1].out_features,\n",
    "                    **config['network']['projection_head']).to(device)\n",
    "\n",
    "# target encoder\n",
    "target_network = ResNet18(**config['network']).to(device)\n",
    "\n",
    "optimizer = torch.optim.SGD(list(online_network.parameters()) + list(predictor.parameters()),\n",
    "                            **config['optimizer']['params'])\n",
    "\n",
    "trainer = BYOLTrainer(online_network=online_network,\n",
    "                      target_network=target_network,\n",
    "                      optimizer=optimizer,\n",
    "                      predictor=predictor,\n",
    "                      device=device,\n",
    "                      **config['trainer'])\n",
    "\n",
    "trainer.train(train_dataset)"
   ]
  },
  {
   "cell_type": "code",
   "execution_count": null,
   "metadata": {},
   "outputs": [],
   "source": []
  }
 ],
 "metadata": {
  "kernelspec": {
   "display_name": "Python 3.8.3 64-bit ('pytorch': conda)",
   "language": "python",
   "name": "python_defaultSpec_1597320297377"
  },
  "language_info": {
   "codemirror_mode": {
    "name": "ipython",
    "version": 3
   },
   "file_extension": ".py",
   "mimetype": "text/x-python",
   "name": "python",
   "nbconvert_exporter": "python",
   "pygments_lexer": "ipython3",
   "version": "3.8.3-final"
  }
 },
 "nbformat": 4,
 "nbformat_minor": 4
}